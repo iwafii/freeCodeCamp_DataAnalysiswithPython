{
  "nbformat": 4,
  "nbformat_minor": 0,
  "metadata": {
    "colab": {
      "provenance": []
    },
    "kernelspec": {
      "name": "python3",
      "display_name": "Python 3"
    },
    "language_info": {
      "name": "python"
    }
  },
  "cells": [
    {
      "cell_type": "markdown",
      "source": [
        "# Demographic Data Analyzer"
      ],
      "metadata": {
        "id": "z8euTGn_khZX"
      }
    },
    {
      "cell_type": "code",
      "source": [
        "import pandas as pd"
      ],
      "metadata": {
        "id": "E9c4mDbpjyve"
      },
      "execution_count": 1,
      "outputs": []
    },
    {
      "cell_type": "code",
      "source": [
        "!wget https://raw.githubusercontent.com/gchrupala/tutorials/refs/heads/master/adult.data.csv"
      ],
      "metadata": {
        "colab": {
          "base_uri": "https://localhost:8080/"
        },
        "id": "0hsRQQ3ZmdYN",
        "outputId": "83f043e6-7cf1-47b5-ec9e-0fcdb555ab54"
      },
      "execution_count": 2,
      "outputs": [
        {
          "output_type": "stream",
          "name": "stdout",
          "text": [
            "--2025-01-18 05:06:37--  https://raw.githubusercontent.com/gchrupala/tutorials/refs/heads/master/adult.data.csv\n",
            "Resolving raw.githubusercontent.com (raw.githubusercontent.com)... 185.199.108.133, 185.199.110.133, 185.199.111.133, ...\n",
            "Connecting to raw.githubusercontent.com (raw.githubusercontent.com)|185.199.108.133|:443... connected.\n",
            "HTTP request sent, awaiting response... 200 OK\n",
            "Length: 3974305 (3.8M) [text/plain]\n",
            "Saving to: ‘adult.data.csv’\n",
            "\n",
            "adult.data.csv      100%[===================>]   3.79M  --.-KB/s    in 0.08s   \n",
            "\n",
            "2025-01-18 05:06:37 (44.8 MB/s) - ‘adult.data.csv’ saved [3974305/3974305]\n",
            "\n"
          ]
        }
      ]
    },
    {
      "cell_type": "code",
      "source": [
        "def calculate_demographic_data(print_data=True):\n",
        "    # Read data from file\n",
        "    df = pd.read_csv(\n",
        "        'adult.data.csv',\n",
        "        header=None,\n",
        "        names=[\"age\", \"workclass\", \"fnlwgt\", \"education\", \"education-num\",\n",
        "               \"marital-status\", \"occupation\", \"relationship\", \"race\", \"sex\",\n",
        "               \"capital-gain\", \"capital-loss\", \"hours-per-week\", \"native-country\", \"salary\"],\n",
        "        skipinitialspace=True\n",
        "    )\n",
        "\n",
        "    # How many of each race are represented in this dataset? This should be a Pandas series with race names as the index labels.\n",
        "    race_count = df['race'].value_counts()\n",
        "\n",
        "    # What is the average age of men?\n",
        "    average_age_men = df[df['sex'] == 'Male']['age'].mean()\n",
        "\n",
        "    # What is the percentage of people who have a Bachelor's degree?\n",
        "    percentage_bachelors = (df['education'].value_counts().get('Bachelors', 0) / len(df)) * 100\n",
        "\n",
        "    # What percentage of people with advanced education (`Bachelors`, `Masters`, or `Doctorate`) make more than 50K?\n",
        "    # What percentage of people without advanced education make more than 50K?\n",
        "    advanced_education = df['education'].isin(['Bachelors', 'Masters', 'Doctorate'])\n",
        "\n",
        "    # with and without `Bachelors`, `Masters`, or `Doctorate`\n",
        "    higher_education = df[advanced_education]\n",
        "    lower_education = df[~advanced_education]\n",
        "\n",
        "    # percentage with salary >50K\n",
        "    higher_education_rich = (higher_education[higher_education['salary'] == '>50K'].shape[0] / higher_education.shape[0]) * 100\n",
        "    lower_education_rich = (lower_education[lower_education['salary'] == '>50K'].shape[0] / lower_education.shape[0]) * 100\n",
        "\n",
        "    # What is the minimum number of hours a person works per week (hours-per-week feature)?\n",
        "    min_work_hours = df['hours-per-week'].min()\n",
        "\n",
        "    # What percentage of the people who work the minimum number of hours per week have a salary of >50K?\n",
        "    num_min_workers = df[df['hours-per-week'] == min_work_hours]\n",
        "\n",
        "    rich_percentage = (num_min_workers[num_min_workers['salary'] == '>50K'].shape[0] / num_min_workers.shape[0]) * 100\n",
        "\n",
        "    # What country has the highest percentage of people that earn >50K?\n",
        "    country_salary_counts = df[df['salary'] == '>50K']['native-country'].value_counts()\n",
        "    country_counts = df['native-country'].value_counts()\n",
        "    country_percentages = (country_salary_counts / country_counts) * 100\n",
        "    highest_earning_country = country_percentages.idxmax()\n",
        "    highest_earning_country_percentage = country_percentages.max()\n",
        "\n",
        "    # Identify the most popular occupation for those who earn >50K in India.\n",
        "    india_rich = df[(df['native-country'] == 'India') & (df['salary'] == '>50K')]\n",
        "    top_IN_occupation = india_rich['occupation'].value_counts().idxmax()\n",
        "\n",
        "    # DO NOT MODIFY BELOW THIS LINE\n",
        "\n",
        "    if print_data:\n",
        "        print(\"Number of each race:\\n\", race_count)\n",
        "        print(\"Average age of men:\", average_age_men)\n",
        "        print(f\"Percentage with Bachelors degrees: {percentage_bachelors}%\")\n",
        "        print(f\"Percentage with higher education that earn >50K: {higher_education_rich}%\")\n",
        "        print(f\"Percentage without higher education that earn >50K: {lower_education_rich}%\")\n",
        "        print(f\"Min work time: {min_work_hours} hours/week\")\n",
        "        print(f\"Percentage of rich among those who work fewest hours: {rich_percentage}%\")\n",
        "        print(\"Country with highest percentage of rich:\", highest_earning_country)\n",
        "        print(f\"Highest percentage of rich people in country: {highest_earning_country_percentage}%\")\n",
        "        print(\"Top occupations in India:\", top_IN_occupation)\n",
        "\n",
        "    return {\n",
        "        'race_count': race_count,\n",
        "        'average_age_men': average_age_men,\n",
        "        'percentage_bachelors': percentage_bachelors,\n",
        "        'higher_education_rich': higher_education_rich,\n",
        "        'lower_education_rich': lower_education_rich,\n",
        "        'min_work_hours': min_work_hours,\n",
        "        'rich_percentage': rich_percentage,\n",
        "        'highest_earning_country': highest_earning_country,\n",
        "        'highest_earning_country_percentage':\n",
        "        highest_earning_country_percentage,\n",
        "        'top_IN_occupation': top_IN_occupation\n",
        "    }"
      ],
      "metadata": {
        "id": "Yxag5Gnv32MB"
      },
      "execution_count": 4,
      "outputs": []
    },
    {
      "cell_type": "code",
      "source": [
        "# Execute the function\n",
        "calculate_demographic_data()"
      ],
      "metadata": {
        "colab": {
          "base_uri": "https://localhost:8080/"
        },
        "id": "UKG1840VzpBC",
        "outputId": "666ae9d9-6f21-48b6-b883-4cec8f30ada9"
      },
      "execution_count": 5,
      "outputs": [
        {
          "output_type": "stream",
          "name": "stdout",
          "text": [
            "Number of each race:\n",
            " race\n",
            "White                 27816\n",
            "Black                  3124\n",
            "Asian-Pac-Islander     1039\n",
            "Amer-Indian-Eskimo      311\n",
            "Other                   271\n",
            "Name: count, dtype: int64\n",
            "Average age of men: 39.43354749885268\n",
            "Percentage with Bachelors degrees: 16.44605509658794%\n",
            "Percentage with higher education that earn >50K: 46.535843011613935%\n",
            "Percentage without higher education that earn >50K: 17.3713601914639%\n",
            "Min work time: 1 hours/week\n",
            "Percentage of rich among those who work fewest hours: 10.0%\n",
            "Country with highest percentage of rich: Iran\n",
            "Highest percentage of rich people in country: 41.86046511627907%\n",
            "Top occupations in India: Prof-specialty\n"
          ]
        },
        {
          "output_type": "execute_result",
          "data": {
            "text/plain": [
              "{'race_count': race\n",
              " White                 27816\n",
              " Black                  3124\n",
              " Asian-Pac-Islander     1039\n",
              " Amer-Indian-Eskimo      311\n",
              " Other                   271\n",
              " Name: count, dtype: int64,\n",
              " 'average_age_men': 39.43354749885268,\n",
              " 'percentage_bachelors': 16.44605509658794,\n",
              " 'higher_education_rich': 46.535843011613935,\n",
              " 'lower_education_rich': 17.3713601914639,\n",
              " 'min_work_hours': 1,\n",
              " 'rich_percentage': 10.0,\n",
              " 'highest_earning_country': 'Iran',\n",
              " 'highest_earning_country_percentage': 41.86046511627907,\n",
              " 'top_IN_occupation': 'Prof-specialty'}"
            ]
          },
          "metadata": {},
          "execution_count": 5
        }
      ]
    }
  ]
}