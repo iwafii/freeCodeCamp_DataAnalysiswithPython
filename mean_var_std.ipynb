{
  "nbformat": 4,
  "nbformat_minor": 0,
  "metadata": {
    "colab": {
      "provenance": []
    },
    "kernelspec": {
      "name": "python3",
      "display_name": "Python 3"
    },
    "language_info": {
      "name": "python"
    }
  },
  "cells": [
    {
      "cell_type": "markdown",
      "source": [
        "# Mean-Variance-Standard Deviation Calculator"
      ],
      "metadata": {
        "id": "ROjPhgdNY9Uj"
      }
    },
    {
      "cell_type": "code",
      "source": [
        "import numpy as np"
      ],
      "metadata": {
        "id": "3fUHQx1XPenn"
      },
      "execution_count": null,
      "outputs": []
    },
    {
      "cell_type": "code",
      "source": [
        "def calculate(input_list):\n",
        "    # Check if the input list has exactly 9 elements\n",
        "    if len(input_list) != 9:\n",
        "        raise ValueError(\"List must contain nine numbers.\")\n",
        "\n",
        "    # Convert the list into a 3x3 Numpy array\n",
        "    array = np.array(input_list).reshape(3, 3)\n",
        "\n",
        "    # Calculate\n",
        "    calculations = {\n",
        "        'mean': [\n",
        "            array.mean(axis=0).tolist(),\n",
        "            array.mean(axis=1).tolist(),\n",
        "            array.mean().tolist()\n",
        "        ],\n",
        "        'variance': [\n",
        "            array.var(axis=0).tolist(),\n",
        "            array.var(axis=1).tolist(),\n",
        "            array.var().tolist()\n",
        "        ],\n",
        "        'standard deviation': [\n",
        "            array.std(axis=0).tolist(),\n",
        "            array.std(axis=1).tolist(),\n",
        "            array.std().tolist()\n",
        "        ],\n",
        "        'max': [\n",
        "            array.max(axis=0).tolist(),\n",
        "            array.max(axis=1).tolist(),\n",
        "            array.max().tolist()\n",
        "        ],\n",
        "        'min': [\n",
        "            array.min(axis=0).tolist(),\n",
        "            array.min(axis=1).tolist(),\n",
        "            array.min().tolist()\n",
        "        ],\n",
        "        'sum': [\n",
        "            array.sum(axis=0).tolist(),\n",
        "            array.sum(axis=1).tolist(),\n",
        "            array.sum().tolist()\n",
        "        ]\n",
        "    }\n",
        "\n",
        "    return calculations"
      ],
      "metadata": {
        "id": "TCOPMckmPghd"
      },
      "execution_count": null,
      "outputs": []
    },
    {
      "cell_type": "code",
      "source": [
        "calculate([0,1,2,3,4,5,6,7,8])"
      ],
      "metadata": {
        "colab": {
          "base_uri": "https://localhost:8080/"
        },
        "id": "urdr_mNePjZ1",
        "outputId": "369533b3-f3d1-4142-8bd7-d8ada0a9c80d"
      },
      "execution_count": null,
      "outputs": [
        {
          "output_type": "execute_result",
          "data": {
            "text/plain": [
              "{'mean': [[3.0, 4.0, 5.0], [1.0, 4.0, 7.0], 4.0],\n",
              " 'variance': [[6.0, 6.0, 6.0],\n",
              "  [0.6666666666666666, 0.6666666666666666, 0.6666666666666666],\n",
              "  6.666666666666667],\n",
              " 'standard deviation': [[2.449489742783178,\n",
              "   2.449489742783178,\n",
              "   2.449489742783178],\n",
              "  [0.816496580927726, 0.816496580927726, 0.816496580927726],\n",
              "  2.581988897471611],\n",
              " 'max': [[6, 7, 8], [2, 5, 8], 8],\n",
              " 'min': [[0, 1, 2], [0, 3, 6], 0],\n",
              " 'sum': [[9, 12, 15], [3, 12, 21], 36]}"
            ]
          },
          "metadata": {},
          "execution_count": 28
        }
      ]
    }
  ]
}